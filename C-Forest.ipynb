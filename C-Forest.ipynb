{
 "cells": [
  {
   "cell_type": "markdown",
   "metadata": {},
   "source": [
    "Causal-Forest.\n",
    "    \n",
    "    - References \n",
    "        - Wager, S., & Athey, S. (2018). Estimation and inference of heterogeneous treatment effects using random forests. Journal of the American Statistical Association, 113(523), 1228-1242.\n",
    "    \n",
    "        - Athey and Imbens, 2016, Estimation and Inference of Heterogeneous Treatment Effects using Random Forests\n",
    "    \n",
    "        - Athey and Wager, 2019, Recursive partitioning for heterogeneous causal effects\n",
    "\n",
    "        - Athey, Tibshirani and Wager, 2019, Generalized random forests\n",
    "\n",
    "    \n",
    "    - Link: https://github.com/timmens/causal-forest\n",
    "    \n",
    "    - Link: https://causal-forest.readthedocs.io/en/latest/getting_started/example.html\n",
    "  "
   ]
  },
  {
   "cell_type": "markdown",
   "metadata": {},
   "source": [
    "# Import Libraries"
   ]
  },
  {
   "cell_type": "code",
   "execution_count": null,
   "metadata": {
    "scrolled": true
   },
   "outputs": [],
   "source": [
    "import warnings\n",
    "warnings.filterwarnings(\"ignore\")\n",
    "\n",
    "# Basic libraries\n",
    "import pandas as pd\n",
    "import numpy  as np\n",
    "\n",
    "# Sklearn library\n",
    "from sklearn.preprocessing   import StandardScaler\n",
    "\n",
    "# User libraries\n",
    "from utils.data_loading import Synthetic_dataset, TWINS_dataset, IHDP_dataset, ACIC_dataset\n",
    "from econml.grf import CausalForest\n",
    "\n",
    "\n",
    "print('[INFO] All libraries were imported')"
   ]
  },
  {
   "cell_type": "markdown",
   "metadata": {},
   "source": [
    "# Get files"
   ]
  },
  {
   "cell_type": "code",
   "execution_count": null,
   "metadata": {},
   "outputs": [],
   "source": [
    "problem = \"ACIC\" # {\"IHDP\", \"Synthetic\", \"TWINS\", \"ACIC\"}\n",
    "path = \"Data/ACIC/\" # {\"Data/Synthetic/\", \"Data/IHDP/\", \"Data/TWINS/\", \"Data/ACIC/\"}\n",
    "filename = f\"./Results/{problem}_C-Forest.csv\"\n",
    "\n",
    "\n",
    "if \"Synthetic\" in problem:\n",
    "    DataLoader = Synthetic_dataset(path=path)\n",
    "elif \"IHDP\" in problem:\n",
    "    DataLoader = IHDP_dataset(path=path)\n",
    "elif \"TWINS\" in problem:\n",
    "    DataLoader = TWINS_dataset(path=path)\n",
    "elif \"ACIC\" in problem:\n",
    "    DataLoader = ACIC_dataset(path=path, train_size=0.8, random_state=1983)  "
   ]
  },
  {
   "cell_type": "markdown",
   "metadata": {},
   "source": [
    "# Parameters"
   ]
  },
  {
   "cell_type": "code",
   "execution_count": null,
   "metadata": {},
   "outputs": [],
   "source": [
    "num_trees                = 100\n",
    "min_samples_leaf         = 5\n",
    "max_depth                = 25"
   ]
  },
  {
   "cell_type": "markdown",
   "metadata": {
    "cell_style": "split"
   },
   "source": [
    "# Simulations"
   ]
  },
  {
   "cell_type": "code",
   "execution_count": null,
   "metadata": {},
   "outputs": [],
   "source": [
    "results = {'ATE': [], 'Error_ATE': [], 'Error_PEHE':[]}\n",
    "\n",
    "for idx in range(DataLoader.nProblems):\n",
    "    # Load training data\n",
    "    #\n",
    "    trainX, trainT, trainY, train_potential_Y = DataLoader.getTraining( idx )\n",
    "\n",
    "    # Load testing data\n",
    "    #\n",
    "    testX, testT, testY, test_potential_Y     = DataLoader.getTesting( idx )\n",
    "    #\n",
    "    print('Simulation: ', idx)\n",
    "    print('[INFO] Dataset imported')\n",
    "    \n",
    "\n",
    "    # Setup scaler for inputs\n",
    "    scalerX = StandardScaler()\n",
    "    #\n",
    "    trainX  = scalerX.fit_transform( trainX )\n",
    "    testX   = scalerX.transform( testX )\n",
    "    \n",
    "    \n",
    "    \n",
    "    # Create model\n",
    "    #\n",
    "#     model = CausalForestDML(criterion='het', n_estimators=100,       \n",
    "#                           min_samples_leaf=10, \n",
    "#                           max_depth=10, max_samples=0.5,\n",
    "#                           discrete_treatment=False,\n",
    "#                           model_t=LassoCV(), model_y=LassoCV())\n",
    "\n",
    "    model = CausalForest(criterion = 'mse', \n",
    "                         n_estimators = num_trees, \n",
    "                         min_samples_leaf = min_samples_leaf, \n",
    "                         max_depth = max_depth,\n",
    "                         min_var_fraction_leaf = None, \n",
    "                         min_var_leaf_on_val   = True,\n",
    "                         random_state=42,\n",
    "                         min_impurity_decrease = 0.0, max_samples=0.45, min_balancedness_tol=.45,\n",
    "                         warm_start=False, inference=True, fit_intercept=True, subforest_size=4,\n",
    "                         honest=True, verbose=0, n_jobs=-1\n",
    "                        )\n",
    "\n",
    "\n",
    "    model.fit(trainX, trainT, trainY)\n",
    "    print('[INFO] Model trained')\n",
    "     \n",
    "\n",
    "    \n",
    "\n",
    "    ITE = model.predict( testX )\n",
    "    \n",
    "\n",
    "    \n",
    "    # ATE\n",
    "    #\n",
    "    real_ATE = ( test_potential_Y[:,1] - test_potential_Y[:,0] ).mean()\n",
    "    \n",
    "    \n",
    "    # Error PEHE\n",
    "    #\n",
    "    Error_PEHE = ((test_potential_Y[:,1] - test_potential_Y[:,0] - ITE)**2 ).mean()\n",
    "    \n",
    "    \n",
    "    # Error ATE\n",
    "    #\n",
    "    Error_ATE = abs( real_ATE - np.mean(ITE) )\n",
    "    \n",
    "    # Store errors of PEHE and ATE\n",
    "    #\n",
    "    results['ATE']            += [ np.round(real_ATE,   6) ]\n",
    "    results['Error_ATE']      += [ np.round(Error_ATE,  6) ]\n",
    "    results['Error_PEHE']     += [ np.round(Error_PEHE, 6) ]\n",
    "    print('[INFO] Error of PEHE and ATE computed\\n\\n')\n",
    "    \n",
    "    \n",
    "    \n",
    "    \n",
    "    # Save results (at each iteration)\n",
    "    df = pd.DataFrame( results )\n",
    "    df['Problem'] = [f\"{problem} {x}\" for x in df.index]\n",
    "    df.to_csv(filename, index=False)   "
   ]
  }
 ],
 "metadata": {
  "kernelspec": {
   "display_name": "ML",
   "language": "python",
   "name": "python3"
  },
  "language_info": {
   "codemirror_mode": {
    "name": "ipython",
    "version": 3
   },
   "file_extension": ".py",
   "mimetype": "text/x-python",
   "name": "python",
   "nbconvert_exporter": "python",
   "pygments_lexer": "ipython3",
   "version": "3.8.17"
  },
  "toc": {
   "base_numbering": 1,
   "nav_menu": {},
   "number_sections": true,
   "sideBar": true,
   "skip_h1_title": false,
   "title_cell": "Table of Contents",
   "title_sidebar": "Contents",
   "toc_cell": false,
   "toc_position": {},
   "toc_section_display": true,
   "toc_window_display": true
  }
 },
 "nbformat": 4,
 "nbformat_minor": 4
}
