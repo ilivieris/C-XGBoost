{
 "cells": [
  {
   "cell_type": "code",
   "execution_count": 1,
   "metadata": {},
   "outputs": [],
   "source": [
    "# Code is based in: https://github.com/amerch/causal_inference_evaluation"
   ]
  },
  {
   "attachments": {},
   "cell_type": "markdown",
   "metadata": {},
   "source": [
    "# Libraries"
   ]
  },
  {
   "cell_type": "code",
   "execution_count": 2,
   "metadata": {},
   "outputs": [
    {
     "name": "stdout",
     "output_type": "stream",
     "text": [
      "[INFO] Random generators were initialized\n"
     ]
    }
   ],
   "source": [
    "import os\n",
    "import numpy as np\n",
    "from tqdm import tqdm\n",
    "from scipy.special import expit\n",
    "\n",
    "\n",
    "# Random generators initialization\n",
    "import random\n",
    "seed=42\n",
    "random.seed(seed)\n",
    "os.environ[\"PYTHONHASHSEED\"] = str(seed)\n",
    "np.random.seed(seed)\n",
    "print('[INFO] Random generators were initialized')"
   ]
  },
  {
   "cell_type": "code",
   "execution_count": 3,
   "metadata": {},
   "outputs": [],
   "source": [
    "def get_samples(samples, n, scale=1, sigma_z0=3, sigma_z1=5):\n",
    "    z = np.random.binomial(1, 0.5, (samples, n))\n",
    "    x = np.random.normal(z, np.sqrt(sigma_z1 ** 2 * z + sigma_z0 **2 * (1 - z)))\n",
    "    x = x.reshape((samples, n))\n",
    "    \n",
    "    t = np.random.binomial(1, 0.75 * z + 0.25 * (1 - z))\n",
    "    y = np.random.binomial(1, expit(scale * (z + 4 * t - 2)))\n",
    "    ycf = np.random.binomial(1, expit(scale * (z + 4 * (1-t) - 2)))\n",
    "    mu0 =  expit(scale * (z - 2))\n",
    "    mu1 =  expit(scale * (z + 2))\n",
    "    \n",
    "    return x, t[:,0], y[:,0], ycf[:,0], mu0[:,0], mu1[:,0]"
   ]
  },
  {
   "cell_type": "code",
   "execution_count": 4,
   "metadata": {},
   "outputs": [],
   "source": [
    "# # nProblems = 100\n",
    "# # n = 100 # Number of Covariates\n",
    "# # test_sample  = 1000\n",
    "\n",
    "# x, t, y, ycf, mu0, mu1 = get_samples(10, 3)\n",
    "\n",
    "# x.shape, t.shape"
   ]
  },
  {
   "cell_type": "code",
   "execution_count": 5,
   "metadata": {},
   "outputs": [
    {
     "name": "stdout",
     "output_type": "stream",
     "text": [
      "Sample size:  5000\n"
     ]
    },
    {
     "name": "stderr",
     "output_type": "stream",
     "text": [
      "100%|██████████| 100/100 [00:01<00:00, 51.95it/s]\n"
     ]
    }
   ],
   "source": [
    "path = 'Synthetic'\n",
    "# Number of Covariates\n",
    "n = 10 # 100 \n",
    "sample_sizes = [5000]\n",
    "number_of_problems = 100\n",
    "test_sample = 1000\n",
    "\n",
    "\n",
    "for sample in sample_sizes:\n",
    "    print ('Sample size: ', sample)\n",
    "\n",
    "    data_path = '{}/{}'.format(path, sample)\n",
    "\n",
    "    if not os.path.exists( data_path ):\n",
    "        os.makedirs(data_path)\n",
    "        print('[INFO] Path: {} created'.format(data_path))\n",
    "        \n",
    "        \n",
    "    for idx in tqdm( range( number_of_problems ) ):\n",
    "        x, t, y, ycf, mu0, mu1 = get_samples(sample, n)\n",
    "        np.savez(data_path + '/train{}.npz'.format(idx), x=x, t=t, yf=y, ycf=ycf, mu1=mu1, mu0=mu0)\n",
    "    \n",
    "        x, t, y, ycf, mu0, mu1 = get_samples(test_sample, n)\n",
    "        np.savez(data_path + '/test{}.npz'.format(idx), x=x, t=t, yf=y, ycf=ycf, mu1=mu1, mu0=mu0)"
   ]
  },
  {
   "cell_type": "code",
   "execution_count": null,
   "metadata": {},
   "outputs": [],
   "source": []
  }
 ],
 "metadata": {
  "kernelspec": {
   "display_name": "tensorflow",
   "language": "python",
   "name": "python3"
  },
  "language_info": {
   "codemirror_mode": {
    "name": "ipython",
    "version": 3
   },
   "file_extension": ".py",
   "mimetype": "text/x-python",
   "name": "python",
   "nbconvert_exporter": "python",
   "pygments_lexer": "ipython3",
   "version": "3.8.17"
  }
 },
 "nbformat": 4,
 "nbformat_minor": 4
}
