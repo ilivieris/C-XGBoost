{
 "cells": [
  {
   "cell_type": "markdown",
   "metadata": {},
   "source": [
    "# Import Libraries"
   ]
  },
  {
   "cell_type": "code",
   "execution_count": null,
   "metadata": {},
   "outputs": [],
   "source": [
    "# Remove warnings\n",
    "#\n",
    "import warnings\n",
    "warnings.filterwarnings(\"ignore\")"
   ]
  },
  {
   "cell_type": "code",
   "execution_count": null,
   "metadata": {
    "scrolled": true
   },
   "outputs": [],
   "source": [
    "# Basic libraries\n",
    "#\n",
    "import numpy  as np\n",
    "import pandas as pd\n",
    "from   os     import listdir\n",
    "\n",
    "\n",
    "# =-=-=-=-=-=-=-=-=-=-=-=-=-=-=-=-=-=-=-=-=-=-=-=-=-=-=-=-=-=-=-=\n",
    "# Sklearn library\n",
    "from sklearn.pipeline        import Pipeline\n",
    "from sklearn.preprocessing   import StandardScaler\n",
    "from sklearn.neighbors       import KNeighborsRegressor\n",
    "\n",
    "# User libraries\n",
    "from utils.metrics import PEHE, ATE\n",
    "from utils.data_loading import Synthetic_dataset, TWINS_dataset\n",
    "from utils.utils import data_sanity_check\n",
    "print('[INFO] All libraries were imported')"
   ]
  },
  {
   "cell_type": "markdown",
   "metadata": {},
   "source": [
    "# Get files"
   ]
  },
  {
   "cell_type": "code",
   "execution_count": null,
   "metadata": {},
   "outputs": [],
   "source": [
    "problem = \"Synthetic-large\" # {\"Synthetic-large\", \"Synthetic\"}\n",
    "path = \"Data/Synthetic/5000_large/\" # {\"Data/Synthetic/5000/\", \"Data/Synthetic/5000_large/\", \"Data/Twins/\"}\n",
    "limited_number_of_instances = 5\n",
    "ratio = 0.01 # Synthetic: 0.01, Twins: 0.005\n",
    "filename = f\"./Results/{problem}_kNN-ratio={ratio}.csv\"\n",
    "\n",
    "\n",
    "if \"Synthetic\" in problem:\n",
    "    DataLoader = Synthetic_dataset(path=path)\n",
    "elif \"TWINS\" in problem:\n",
    "    DataLoader = TWINS_dataset(path=path)\n",
    "\n",
    "\n",
    "\n",
    "# Sanity check\n",
    "# * Ensure that all categories obtain enough datapoints *\n",
    "data_sanity_check(DataLoader=DataLoader, ratio=ratio)"
   ]
  },
  {
   "cell_type": "markdown",
   "metadata": {
    "cell_style": "split"
   },
   "source": [
    "# Simulations"
   ]
  },
  {
   "cell_type": "code",
   "execution_count": null,
   "metadata": {
    "scrolled": true
   },
   "outputs": [],
   "source": [
    "results = {'ATE': [], 'Error_ATE': [], 'Error_PEHE':[]}\n",
    "\n",
    "for idx in range(DataLoader.nProblems):\n",
    "    \n",
    "    \n",
    "    # Load training data\n",
    "    #\n",
    "    trainX, trainT, trainY, train_potential_Y = DataLoader.getTraining( idx )\n",
    "    # Get sampling set\n",
    "    from utils.data_loading import create_sample_dataset\n",
    "    indices = create_sample_dataset(T=trainT, Y=trainY, ratio=ratio, limited_number_of_instances=limited_number_of_instances)\n",
    "    trainX, trainT, trainY, train_potential_Y = trainX[indices], trainT[indices], trainY[indices], train_potential_Y[indices]\n",
    "\n",
    "    # Load testing data\n",
    "    #\n",
    "    testX, testT, testY, test_potential_Y     = DataLoader.getTesting( idx )\n",
    "    #\n",
    "    print('Simulation: ', idx)\n",
    "    print('[INFO] Dataset imported')\n",
    "    \n",
    "    \n",
    "    \n",
    "\n",
    "    \n",
    "    \n",
    "    # Setup model\n",
    "    #\n",
    "    model = Pipeline([('scaler', StandardScaler()), \n",
    "                      ('kNN',   KNeighborsRegressor())])\n",
    "    \n",
    "    \n",
    "    \n",
    "    # Train model\n",
    "    #\n",
    "    model.fit(np.concatenate([trainX, trainT.reshape(-1,1)], axis=1), trainY);\n",
    "    print('[INFO] Model trained')\n",
    "    \n",
    "    \n",
    "    \n",
    "    \n",
    "    \n",
    "    \n",
    "    # Calculate number of instances in testing set\n",
    "    #\n",
    "    nInstances = testX.shape[0]\n",
    "\n",
    "    \n",
    "    # Initialize an empty array\n",
    "    #\n",
    "    test_y_hat = np.empty([nInstances, 2], dtype=float)\n",
    "\n",
    "\n",
    "    # Get predictions\n",
    "    #\n",
    "    # \\hat{m}(x, 0)\n",
    "    test_y_hat[:,0] = model.predict( np.concatenate([testX, np.zeros([nInstances,1])], axis=1) ).squeeze(-1)\n",
    "    #\n",
    "    # \\hat{m}(x, 1)\n",
    "    test_y_hat[:,1] = model.predict( np.concatenate([testX, np.ones([nInstances,1])],  axis=1) ).squeeze(-1)\n",
    "    \n",
    "\n",
    "    \n",
    "    # ATE\n",
    "    #\n",
    "    real_ATE = ( test_potential_Y[:,1] - test_potential_Y[:,0] ).mean()\n",
    "    \n",
    "    \n",
    "    # Error PEHE\n",
    "    #\n",
    "    Error_PEHE = PEHE(test_potential_Y, test_y_hat)\n",
    "    \n",
    "    \n",
    "    # Error ATE\n",
    "    #\n",
    "    Error_ATE = ATE(test_potential_Y, test_y_hat)  \n",
    "    \n",
    "        \n",
    "    # Store errors of PEHE and ATE\n",
    "    #\n",
    "    results['ATE']            += [ np.round(real_ATE,   6) ]\n",
    "    results['Error_ATE']      += [ np.round(Error_ATE,  6) ]\n",
    "    results['Error_PEHE']     += [ np.round(Error_PEHE, 6) ]\n",
    "\n",
    "    print('[INFO] Error of PEHE and ATE computed\\n\\n')\n",
    "    \n",
    "    \n",
    "    # Save results (at each iteration)\n",
    "    df = pd.DataFrame( results )\n",
    "    df['Problem'] = [f\"{problem} {x}\" for x in df.index]\n",
    "    df.to_csv(filename, index=False)"
   ]
  },
  {
   "cell_type": "code",
   "execution_count": null,
   "metadata": {},
   "outputs": [],
   "source": []
  }
 ],
 "metadata": {
  "kernelspec": {
   "display_name": "ML",
   "language": "python",
   "name": "python3"
  },
  "language_info": {
   "codemirror_mode": {
    "name": "ipython",
    "version": 3
   },
   "file_extension": ".py",
   "mimetype": "text/x-python",
   "name": "python",
   "nbconvert_exporter": "python",
   "pygments_lexer": "ipython3",
   "version": "3.8.17"
  },
  "toc": {
   "base_numbering": 1,
   "nav_menu": {},
   "number_sections": true,
   "sideBar": true,
   "skip_h1_title": false,
   "title_cell": "Table of Contents",
   "title_sidebar": "Contents",
   "toc_cell": false,
   "toc_position": {},
   "toc_section_display": true,
   "toc_window_display": true
  }
 },
 "nbformat": 4,
 "nbformat_minor": 4
}
