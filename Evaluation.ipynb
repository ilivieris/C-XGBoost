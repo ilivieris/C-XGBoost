{
 "cells": [
  {
   "cell_type": "markdown",
   "metadata": {},
   "source": [
    "## Libraries - Parameters"
   ]
  },
  {
   "cell_type": "code",
   "execution_count": 84,
   "metadata": {},
   "outputs": [],
   "source": [
    "# Basic libraries\n",
    "import numpy as np\n",
    "import pandas as pd\n",
    "from os import listdir\n",
    "from os.path import isfile, join\n",
    "# Visualization library\n",
    "import matplotlib.pyplot as plt\n",
    "# User's library\n",
    "from utils.PerformanceProfiles import *\n",
    "from utils.non_parametric_tests import *\n",
    "\n",
    "\n",
    "# TWINS, Synthetic, IHDP\n",
    "Problem = \"ACIC\"\n",
    "\n",
    "# Get files\n",
    "PATH = './Results/'\n",
    "Files = [f for f in listdir(PATH) if isfile(join(PATH, f))]"
   ]
  },
  {
   "cell_type": "markdown",
   "metadata": {},
   "source": [
    "## Load data"
   ]
  },
  {
   "cell_type": "code",
   "execution_count": 85,
   "metadata": {},
   "outputs": [
    {
     "name": "stdout",
     "output_type": "stream",
     "text": [
      " 1: C-Forest\n",
      " 2: DragonNet\n",
      " 3: LR1\n",
      " 4: LR2\n",
      " 5: R-Forest\n",
      " 6: XGBoost\n",
      " 7: kNN-DragonNet-euclidean-k=11\n"
     ]
    }
   ],
   "source": [
    "Methods = []\n",
    "for i, file in enumerate( Files ):\n",
    "    # Select only csv files\n",
    "    #\n",
    "    if ('.csv' not in file): continue\n",
    "        \n",
    "    # Select on results from selected Problem\n",
    "    #\n",
    "    if ( Problem not in file ): continue\n",
    "        \n",
    "        \n",
    "    # Get method name\n",
    "    #\n",
    "    Method = file.split('.csv')[0].split('_')[1]\n",
    "    \n",
    "    Methods += [ Method ]\n",
    "\n",
    "# Sort list with methods\n",
    "Methods.sort()\n",
    "\n",
    "for i, x in enumerate( Methods ):\n",
    "    print('%2i: %s' % (i+1, x))"
   ]
  },
  {
   "cell_type": "markdown",
   "metadata": {},
   "source": [
    "#### Select Methods/Solvers "
   ]
  },
  {
   "cell_type": "code",
   "execution_count": 86,
   "metadata": {},
   "outputs": [],
   "source": [
    "SelectedMethods = [\n",
    "                    # \"LR1\",\n",
    "                    # \"LR2\",\n",
    "                    \"R-Forest\",\n",
    "                    \"C-Forest\",\n",
    "                    \"DragonNet\",\n",
    "                    \"kNN-DragonNet-euclidean-k=11\",\n",
    "                    \"XGBoost\",                    \n",
    "]"
   ]
  },
  {
   "cell_type": "markdown",
   "metadata": {},
   "source": [
    "#### Merge files"
   ]
  },
  {
   "cell_type": "code",
   "execution_count": 87,
   "metadata": {},
   "outputs": [
    {
     "name": "stdout",
     "output_type": "stream",
     "text": [
      "[INFO] nProblem:  34\n"
     ]
    }
   ],
   "source": [
    "Error_ATE  = pd.DataFrame([])\n",
    "Error_PEHE = pd.DataFrame([])\n",
    "\n",
    "for i, file in enumerate( Files ):\n",
    "    # Select only csv files\n",
    "    if ('.csv' not in file): continue\n",
    "        \n",
    "    # Select on results from IHDP\n",
    "    if (Problem != file.split(\"_\")[0]): continue\n",
    "    \n",
    "    \n",
    "    # Select methods\n",
    "    Method = file.split('.csv')[0].split('_')[1]\n",
    "    if (Method not in SelectedMethods): continue\n",
    "    \n",
    "    # Open DataFrame\n",
    "    df = pd.read_csv(PATH + file)\n",
    "    \n",
    "    if (Error_ATE.shape[0] == 0):\n",
    "        Error_ATE['Problem'], Error_PEHE['Problem']  = df.Problem, df.Problem\n",
    "\n",
    "    Error_ATE[Method], Error_PEHE[Method]  = df['Error_ATE'], df['Error_PEHE']\n",
    "\n",
    "    \n",
    "\n",
    "# Set index\n",
    "Error_ATE.set_index('Problem', inplace = True)\n",
    "Error_PEHE.set_index('Problem', inplace = True)\n",
    "\n",
    "# Remove NaN rows if any\n",
    "Error_ATE.dropna(inplace=True)\n",
    "Error_PEHE.dropna(inplace=True)\n",
    "\n",
    "Error_ATE, Error_PEHE = Error_ATE[SelectedMethods], Error_PEHE[SelectedMethods]\n",
    "\n",
    "print('[INFO] nProblem: ', Error_ATE.shape[0])"
   ]
  },
  {
   "cell_type": "code",
   "execution_count": 88,
   "id": "61669e7c",
   "metadata": {},
   "outputs": [],
   "source": [
    "if Problem == \"ACIC\":\n",
    "       L = ['ACIC 0', 'ACIC 1', 'ACIC 2', 'ACIC 5', 'ACIC 9', 'ACIC 13', 'ACIC 14',\n",
    "              'ACIC 15', 'ACIC 17', 'ACIC 18', 'ACIC 22', 'ACIC 24', 'ACIC 25',\n",
    "              'ACIC 26', 'ACIC 27']\n",
    "\n",
    "       Error_ATE = Error_ATE[ Error_PEHE.index.isin(L) ]\n",
    "       Error_PEHE = Error_PEHE[ Error_PEHE.index.isin(L) ]"
   ]
  },
  {
   "cell_type": "markdown",
   "metadata": {},
   "source": [
    "## Performance profiles"
   ]
  },
  {
   "cell_type": "markdown",
   "metadata": {},
   "source": [
    "### Error ATE"
   ]
  },
  {
   "cell_type": "code",
   "execution_count": 89,
   "metadata": {},
   "outputs": [
    {
     "name": "stdout",
     "output_type": "stream",
     "text": [
      "Method: R-Forest - 0.23\n",
      "Method: C-Forest - 0.15\n",
      "Method: DragonNet - 0.15\n",
      "Method: kNN-DragonNet-euclidean-k=11 - 0.23\n",
      "Method: XGBoost - 0.23\n"
     ]
    },
    {
     "data": {
      "image/png": "[encoded data removed]",
      "text/plain": [
       "<Figure size 800x600 with 1 Axes>"
      ]
     },
     "metadata": {},
     "output_type": "display_data"
    }
   ],
   "source": [
    "perfprof(Error_ATE.values, \n",
    "        #  linespecs = ['b-', 'r-', 'g--', 'm-.', 'c-.',  'y-', 'k-.'], \n",
    "         digit = 3,\n",
    "        #  legendnames = [\"\\\\textsc{Causal-Siamese} ($L_1$)\", \"\\\\textsc{Causal-Siamese} ($L_2$)\", '\\\\textsc{Dragonnet}', \"$k$\\\\textsc{NN-Dragonnet}\", \"\\\\textsc{NEDnet}\", \"\\\\textsc{R-Forest}\", \"\\\\textsc{C-Forest}\"],\n",
    "         legendnames = Error_ATE.columns,\n",
    "         thmax = 10, figsize = (8, 6) )\n",
    "\n",
    "plt.xscale('log')\n",
    "\n",
    "plt.savefig( 'images/{}_Error_ATE.png'.format(Problem), dpi = 300 )"
   ]
  },
  {
   "cell_type": "markdown",
   "metadata": {},
   "source": [
    "### Error PEHE"
   ]
  },
  {
   "cell_type": "code",
   "execution_count": 95,
   "metadata": {},
   "outputs": [
    {
     "name": "stdout",
     "output_type": "stream",
     "text": [
      "[INFO] nProblem:  13\n",
      "Method: R-Forest - 0.38\n",
      "Method: C-Forest - 0.00\n",
      "Method: DragonNet - 0.00\n",
      "Method: kNN-DragonNet-euclidean-k=11 - 0.00\n",
      "Method: XGBoost - 0.62\n"
     ]
    },
    {
     "name": "stderr",
     "output_type": "stream",
     "text": [
      "c:\\Users\\ioann\\OneDrive\\Desktop\\Causal_XGBoost\\utils\\PerformanceProfiles.py:103: RuntimeWarning: divide by zero encountered in true_divide\n",
      "  col = data[:, alt] / minvals  # performance ratio\n",
      "c:\\Users\\ioann\\OneDrive\\Desktop\\Causal_XGBoost\\utils\\PerformanceProfiles.py:103: RuntimeWarning: invalid value encountered in true_divide\n",
      "  col = data[:, alt] / minvals  # performance ratio\n"
     ]
    },
    {
     "data": {
      "image/png": "[encoded data removed]",
      "text/plain": [
       "<Figure size 800x600 with 1 Axes>"
      ]
     },
     "metadata": {},
     "output_type": "display_data"
    }
   ],
   "source": [
    "print('[INFO] nProblem: ', Error_ATE.shape[0])\n",
    "\n",
    "perfprof(Error_PEHE,\n",
    "        #  linespecs = ['b-', 'r-', 'g--', 'm-.', 'c-.',  'y-', 'k-.'], \n",
    "         digit = 3,\n",
    "        #  legendnames = [\"\\\\textsc{Causal-Siamese} ($L_1$)\", \"\\\\textsc{Causal-Siamese} ($L_2$)\", '\\\\textsc{Dragonnet}', \"$k$\\\\textsc{NN-Dragonnet}\", \"\\\\textsc{NEDnet}\", \"\\\\textsc{R-Forest}\", \"\\\\textsc{C-Forest}\"],\n",
    "         legendnames = Error_ATE.columns,\n",
    "         thmax = 10, figsize = (8, 6) )\n",
    "\n",
    "plt.xscale('log')\n",
    "\n",
    "plt.savefig( 'images/{}_Error_PEHE.png'.format(Problem), dpi = 300 )"
   ]
  },
  {
   "cell_type": "markdown",
   "metadata": {},
   "source": [
    "## Statistical analysis"
   ]
  },
  {
   "cell_type": "markdown",
   "metadata": {},
   "source": [
    "### ATE"
   ]
  },
  {
   "cell_type": "markdown",
   "metadata": {},
   "source": [
    "#### Friedman Aligned Ranking (FAR)"
   ]
  },
  {
   "cell_type": "code",
   "execution_count": 91,
   "metadata": {},
   "outputs": [
    {
     "name": "stdout",
     "output_type": "stream",
     "text": [
      "[INFO] Number of methods:   5\n",
      "[INFO] Number of problems:  13\n",
      "\n",
      "\n",
      "[INFO] H0: {All methods exhibited similar results with no statistical differences}\n",
      "[INFO] FAR: 13.760 (p-value: 0.00810)\n",
      "\t> H0 is rejected\n"
     ]
    },
    {
     "data": {
      "text/html": [
       "<div>\n",
       "<style scoped>\n",
       "    .dataframe tbody tr th:only-of-type {\n",
       "        vertical-align: middle;\n",
       "    }\n",
       "\n",
       "    .dataframe tbody tr th {\n",
       "        vertical-align: top;\n",
       "    }\n",
       "\n",
       "    .dataframe thead th {\n",
       "        text-align: right;\n",
       "    }\n",
       "</style>\n",
       "<table border=\"1\" class=\"dataframe\">\n",
       "  <thead>\n",
       "    <tr style=\"text-align: right;\">\n",
       "      <th></th>\n",
       "      <th>Methods</th>\n",
       "      <th>FAR</th>\n",
       "    </tr>\n",
       "  </thead>\n",
       "  <tbody>\n",
       "    <tr>\n",
       "      <th>0</th>\n",
       "      <td>XGBoost</td>\n",
       "      <td>22.307692</td>\n",
       "    </tr>\n",
       "    <tr>\n",
       "      <th>1</th>\n",
       "      <td>R-Forest</td>\n",
       "      <td>22.615385</td>\n",
       "    </tr>\n",
       "    <tr>\n",
       "      <th>2</th>\n",
       "      <td>kNN-DragonNet-euclidean-k=11</td>\n",
       "      <td>34.307692</td>\n",
       "    </tr>\n",
       "    <tr>\n",
       "      <th>3</th>\n",
       "      <td>DragonNet</td>\n",
       "      <td>42.230769</td>\n",
       "    </tr>\n",
       "    <tr>\n",
       "      <th>4</th>\n",
       "      <td>C-Forest</td>\n",
       "      <td>43.538462</td>\n",
       "    </tr>\n",
       "  </tbody>\n",
       "</table>\n",
       "</div>"
      ],
      "text/plain": [
       "                        Methods        FAR\n",
       "0                       XGBoost  22.307692\n",
       "1                      R-Forest  22.615385\n",
       "2  kNN-DragonNet-euclidean-k=11  34.307692\n",
       "3                     DragonNet  42.230769\n",
       "4                      C-Forest  43.538462"
      ]
     },
     "execution_count": 91,
     "metadata": {},
     "output_type": "execute_result"
    }
   ],
   "source": [
    "T, p_value, rankings_avg, rankings_cmp = friedman_aligned_ranks_test( Error_ATE )\n",
    "\n",
    "\n",
    "# Summary\n",
    "#\n",
    "print('\\n')\n",
    "print('[INFO] H0: {All methods exhibited similar results with no statistical differences}')\n",
    "print('[INFO] FAR: %.3f (p-value: %.5f)' % (T, p_value))\n",
    "if (p_value < 0.05):\n",
    "    print('\\t> H0 is rejected')\n",
    "else:\n",
    "    print('\\t> H0 is failed to be rejected')\n",
    "\n",
    "\n",
    "Ranking            = pd.DataFrame( [] )\n",
    "Ranking['Methods'] = Error_ATE.columns\n",
    "Ranking['FAR']     = rankings_avg\n",
    "\n",
    "Ranking = Ranking.sort_values(by           = 'FAR', \n",
    "                              ignore_index = True)\n",
    "Ranking"
   ]
  },
  {
   "cell_type": "markdown",
   "metadata": {},
   "source": [
    "#### Finner post-hoc test\n",
    "\n",
    "**Multiple comparisons ($1 \\times N$)**"
   ]
  },
  {
   "cell_type": "code",
   "execution_count": 92,
   "metadata": {},
   "outputs": [
    {
     "name": "stdout",
     "output_type": "stream",
     "text": [
      "[INFO] Control method:  XGBoost\n"
     ]
    },
    {
     "data": {
      "text/html": [
       "<div>\n",
       "<style scoped>\n",
       "    .dataframe tbody tr th:only-of-type {\n",
       "        vertical-align: middle;\n",
       "    }\n",
       "\n",
       "    .dataframe tbody tr th {\n",
       "        vertical-align: top;\n",
       "    }\n",
       "\n",
       "    .dataframe thead th {\n",
       "        text-align: right;\n",
       "    }\n",
       "</style>\n",
       "<table border=\"1\" class=\"dataframe\">\n",
       "  <thead>\n",
       "    <tr style=\"text-align: right;\">\n",
       "      <th></th>\n",
       "      <th>Comparisons</th>\n",
       "      <th>APV</th>\n",
       "      <th>Null hypothesis</th>\n",
       "    </tr>\n",
       "  </thead>\n",
       "  <tbody>\n",
       "    <tr>\n",
       "      <th>0</th>\n",
       "      <td>XGBoost vs R-Forest</td>\n",
       "      <td>0.966906</td>\n",
       "      <td>Failed to reject</td>\n",
       "    </tr>\n",
       "    <tr>\n",
       "      <th>1</th>\n",
       "      <td>XGBoost vs kNN-DragonNet-euclidean-k=11</td>\n",
       "      <td>0.138319</td>\n",
       "      <td>Failed to reject</td>\n",
       "    </tr>\n",
       "    <tr>\n",
       "      <th>2</th>\n",
       "      <td>XGBoost vs C-Forest</td>\n",
       "      <td>0.016693</td>\n",
       "      <td>Rejected</td>\n",
       "    </tr>\n",
       "    <tr>\n",
       "      <th>3</th>\n",
       "      <td>XGBoost vs DragonNet</td>\n",
       "      <td>0.016693</td>\n",
       "      <td>Rejected</td>\n",
       "    </tr>\n",
       "  </tbody>\n",
       "</table>\n",
       "</div>"
      ],
      "text/plain": [
       "                               Comparisons       APV   Null hypothesis\n",
       "0                      XGBoost vs R-Forest  0.966906  Failed to reject\n",
       "1  XGBoost vs kNN-DragonNet-euclidean-k=11  0.138319  Failed to reject\n",
       "2                      XGBoost vs C-Forest  0.016693          Rejected\n",
       "3                     XGBoost vs DragonNet  0.016693          Rejected"
      ]
     },
     "execution_count": 92,
     "metadata": {},
     "output_type": "execute_result"
    }
   ],
   "source": [
    "# Create dictionary with rankings\n",
    "#\n",
    "d = {}\n",
    "for i, feature in enumerate( Error_ATE.columns ):\n",
    "    d[ feature ] = rankings_cmp[i] \n",
    "    \n",
    "comparisons, z_values, p_values, adj_p_values = finner_test( d )\n",
    "\n",
    "Finner = pd.DataFrame( [] )\n",
    "Finner['Comparisons']     = comparisons\n",
    "Finner['APV']             = adj_p_values\n",
    "Finner['Null hypothesis'] = Finner['APV'].apply(lambda x: 'Rejected' if x < 0.05 else 'Failed to reject')\n",
    "\n",
    "Finner = Finner.sort_values(by = 'APV', ascending = False, ignore_index = True)\n",
    "Finner"
   ]
  },
  {
   "cell_type": "markdown",
   "metadata": {},
   "source": [
    "### PEHE"
   ]
  },
  {
   "cell_type": "markdown",
   "metadata": {},
   "source": [
    "#### Friedman Aligned Ranking (FAR)"
   ]
  },
  {
   "cell_type": "code",
   "execution_count": 93,
   "metadata": {},
   "outputs": [
    {
     "name": "stdout",
     "output_type": "stream",
     "text": [
      "[INFO] Number of methods:   5\n",
      "[INFO] Number of problems:  13\n",
      "\n",
      "\n",
      "[INFO] H0: {All methods exhibited similar results with no statistical differences}\n",
      "[INFO] FAR: 23.408 (p-value: 0.00010)\n",
      "\t> H0 is rejected\n"
     ]
    },
    {
     "data": {
      "text/html": [
       "<div>\n",
       "<style scoped>\n",
       "    .dataframe tbody tr th:only-of-type {\n",
       "        vertical-align: middle;\n",
       "    }\n",
       "\n",
       "    .dataframe tbody tr th {\n",
       "        vertical-align: top;\n",
       "    }\n",
       "\n",
       "    .dataframe thead th {\n",
       "        text-align: right;\n",
       "    }\n",
       "</style>\n",
       "<table border=\"1\" class=\"dataframe\">\n",
       "  <thead>\n",
       "    <tr style=\"text-align: right;\">\n",
       "      <th></th>\n",
       "      <th>Methods</th>\n",
       "      <th>FAR</th>\n",
       "    </tr>\n",
       "  </thead>\n",
       "  <tbody>\n",
       "    <tr>\n",
       "      <th>0</th>\n",
       "      <td>R-Forest</td>\n",
       "      <td>18.692308</td>\n",
       "    </tr>\n",
       "    <tr>\n",
       "      <th>1</th>\n",
       "      <td>XGBoost</td>\n",
       "      <td>18.692308</td>\n",
       "    </tr>\n",
       "    <tr>\n",
       "      <th>2</th>\n",
       "      <td>kNN-DragonNet-euclidean-k=11</td>\n",
       "      <td>38.769231</td>\n",
       "    </tr>\n",
       "    <tr>\n",
       "      <th>3</th>\n",
       "      <td>C-Forest</td>\n",
       "      <td>42.307692</td>\n",
       "    </tr>\n",
       "    <tr>\n",
       "      <th>4</th>\n",
       "      <td>DragonNet</td>\n",
       "      <td>46.538462</td>\n",
       "    </tr>\n",
       "  </tbody>\n",
       "</table>\n",
       "</div>"
      ],
      "text/plain": [
       "                        Methods        FAR\n",
       "0                      R-Forest  18.692308\n",
       "1                       XGBoost  18.692308\n",
       "2  kNN-DragonNet-euclidean-k=11  38.769231\n",
       "3                      C-Forest  42.307692\n",
       "4                     DragonNet  46.538462"
      ]
     },
     "execution_count": 93,
     "metadata": {},
     "output_type": "execute_result"
    }
   ],
   "source": [
    "T, p_value, rankings_avg, rankings_cmp = friedman_aligned_ranks_test( Error_PEHE )\n",
    "\n",
    "\n",
    "# Summary\n",
    "#\n",
    "print('\\n')\n",
    "print('[INFO] H0: {All methods exhibited similar results with no statistical differences}')\n",
    "print('[INFO] FAR: %.3f (p-value: %.5f)' % (T, p_value))\n",
    "if (p_value < 0.05):\n",
    "    print('\\t> H0 is rejected')\n",
    "else:\n",
    "    print('\\t> H0 is failed to be rejected')\n",
    "\n",
    "\n",
    "Ranking            = pd.DataFrame( [] )\n",
    "Ranking['Methods'] = Error_PEHE.columns\n",
    "Ranking['FAR']     = rankings_avg\n",
    "\n",
    "Ranking = Ranking.sort_values(by           = 'FAR', \n",
    "                              ignore_index = True)\n",
    "Ranking"
   ]
  },
  {
   "cell_type": "markdown",
   "id": "4efeba84",
   "metadata": {},
   "source": [
    "#### Finner post-hoc test\n",
    "\n",
    "**Multiple comparisons ($1 \\times N$)**"
   ]
  },
  {
   "cell_type": "code",
   "execution_count": 94,
   "metadata": {},
   "outputs": [
    {
     "name": "stdout",
     "output_type": "stream",
     "text": [
      "[INFO] Control method:  R-Forest\n"
     ]
    },
    {
     "data": {
      "text/html": [
       "<div>\n",
       "<style scoped>\n",
       "    .dataframe tbody tr th:only-of-type {\n",
       "        vertical-align: middle;\n",
       "    }\n",
       "\n",
       "    .dataframe tbody tr th {\n",
       "        vertical-align: top;\n",
       "    }\n",
       "\n",
       "    .dataframe thead th {\n",
       "        text-align: right;\n",
       "    }\n",
       "</style>\n",
       "<table border=\"1\" class=\"dataframe\">\n",
       "  <thead>\n",
       "    <tr style=\"text-align: right;\">\n",
       "      <th></th>\n",
       "      <th>Comparisons</th>\n",
       "      <th>APV</th>\n",
       "      <th>Null hypothesis</th>\n",
       "    </tr>\n",
       "  </thead>\n",
       "  <tbody>\n",
       "    <tr>\n",
       "      <th>0</th>\n",
       "      <td>R-Forest vs XGBoost</td>\n",
       "      <td>1.000000</td>\n",
       "      <td>Failed to reject</td>\n",
       "    </tr>\n",
       "    <tr>\n",
       "      <th>1</th>\n",
       "      <td>R-Forest vs kNN-DragonNet-euclidean-k=11</td>\n",
       "      <td>0.009038</td>\n",
       "      <td>Rejected</td>\n",
       "    </tr>\n",
       "    <tr>\n",
       "      <th>2</th>\n",
       "      <td>R-Forest vs C-Forest</td>\n",
       "      <td>0.002900</td>\n",
       "      <td>Rejected</td>\n",
       "    </tr>\n",
       "    <tr>\n",
       "      <th>3</th>\n",
       "      <td>R-Forest vs DragonNet</td>\n",
       "      <td>0.000694</td>\n",
       "      <td>Rejected</td>\n",
       "    </tr>\n",
       "  </tbody>\n",
       "</table>\n",
       "</div>"
      ],
      "text/plain": [
       "                                Comparisons       APV   Null hypothesis\n",
       "0                       R-Forest vs XGBoost  1.000000  Failed to reject\n",
       "1  R-Forest vs kNN-DragonNet-euclidean-k=11  0.009038          Rejected\n",
       "2                      R-Forest vs C-Forest  0.002900          Rejected\n",
       "3                     R-Forest vs DragonNet  0.000694          Rejected"
      ]
     },
     "execution_count": 94,
     "metadata": {},
     "output_type": "execute_result"
    }
   ],
   "source": [
    "# Create dictionary with rankings\n",
    "#\n",
    "d = {}\n",
    "for i, feature in enumerate( Error_PEHE.columns ):\n",
    "    d[ feature ] = rankings_cmp[i] \n",
    "    \n",
    "comparisons, z_values, p_values, adj_p_values = finner_test( d )\n",
    "\n",
    "Finner = pd.DataFrame( [] )\n",
    "Finner['Comparisons']     = comparisons\n",
    "Finner['APV']             = adj_p_values\n",
    "Finner['Null hypothesis'] = Finner['APV'].apply(lambda x: 'Rejected' if x < 0.05 else 'Failed to reject')\n",
    "\n",
    "Finner = Finner.sort_values(by = 'APV', ascending = False, ignore_index = True)\n",
    "Finner"
   ]
  }
 ],
 "metadata": {
  "kernelspec": {
   "display_name": "ML",
   "language": "python",
   "name": "python3"
  },
  "language_info": {
   "codemirror_mode": {
    "name": "ipython",
    "version": 3
   },
   "file_extension": ".py",
   "mimetype": "text/x-python",
   "name": "python",
   "nbconvert_exporter": "python",
   "pygments_lexer": "ipython3",
   "version": "3.8.17"
  },
  "toc": {
   "base_numbering": 1,
   "nav_menu": {},
   "number_sections": true,
   "sideBar": true,
   "skip_h1_title": false,
   "title_cell": "Table of Contents",
   "title_sidebar": "Contents",
   "toc_cell": false,
   "toc_position": {
    "height": "calc(100% - 180px)",
    "left": "10px",
    "top": "150px",
    "width": "307.2px"
   },
   "toc_section_display": true,
   "toc_window_display": true
  }
 },
 "nbformat": 4,
 "nbformat_minor": 5
}
